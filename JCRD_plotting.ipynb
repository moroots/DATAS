{
 "cells": [
  {
   "cell_type": "markdown",
   "id": "de9d7483-9f10-4c67-b14f-390a89edcecd",
   "metadata": {},
   "source": [
    "# Joint Collaborative Research and Development Project \n",
    "# Remote Sensing data collection and visualization:\n",
    "- Datasets\n",
    "- Visualizations\n",
    "- Analysis\n",
    "\n",
    "### Table of Contents\n",
    "- Pandora\n",
    "- AERONET\n",
    "- Ceilometer\n",
    "- TOLNet\n",
    "- MPLNET"
   ]
  },
  {
   "cell_type": "code",
   "execution_count": null,
   "id": "256a89ba-5082-42bf-a457-08053e137054",
   "metadata": {},
   "outputs": [],
   "source": []
  },
  {
   "cell_type": "markdown",
   "id": "90f07166-6477-43c3-9b54-9b7e7f75d215",
   "metadata": {},
   "source": [
    "### AEROSOL ROBOTIC NETWORK (AERONET) - CIMEL Sunphotometers\n",
    "- Homepage: https://aeronet.gsfc.nasa.gov/\n",
    "- DataDownload: https://aeronet.gsfc.nasa.gov/cgi-bin/webtool_inv_v3\n",
    "- DataDisplay: https://aeronet.gsfc.nasa.gov/cgi-bin/data_display_inv_v3"
   ]
  },
  {
   "cell_type": "code",
   "execution_count": 1,
   "id": "be574e49-e655-405b-b52e-f039bde95ef0",
   "metadata": {},
   "outputs": [],
   "source": [
    "from pathlib import Path\n",
    "import pandas as pd\n",
    "import numpy as np\n",
    "import matplotlib.pyplot as plt"
   ]
  },
  {
   "cell_type": "code",
   "execution_count": 2,
   "id": "d77d594b-5ce0-444c-90d9-e8f8dd5f1081",
   "metadata": {},
   "outputs": [],
   "source": [
    "AERONET = {}\n",
    "dirpath = r\"C:\\Users\\Magnolia\\OneDrive - UMBC\\Research\\Analysis\\DATAS\\JCRD\\data\\aeronet\"\n",
    "for filepath in Path(dirpath).glob(\"*.all\"):\n",
    "    with open(filepath, \"r\") as f:\n",
    "        content = f.readlines()\n",
    "        site_line = content[1].strip()\n",
    "        header_line = None\n",
    "\n",
    "        for i, line in enumerate(content):\n",
    "            if site_line in line and i > 2:\n",
    "                skiprows = i-1\n",
    "                break\n",
    "                \n",
    "    AERONET[filepath.stem] = pd.read_csv(filepath, sep=\",\", skiprows=skiprows)"
   ]
  },
  {
   "cell_type": "code",
   "execution_count": 3,
   "id": "080c4d53-67d7-4c60-a98f-a0ffaec8609d",
   "metadata": {
    "scrolled": true
   },
   "outputs": [
    {
     "ename": "NameError",
     "evalue": "name 'filepath' is not defined",
     "output_type": "error",
     "traceback": [
      "\u001b[1;31m---------------------------------------------------------------------------\u001b[0m",
      "\u001b[1;31mNameError\u001b[0m                                 Traceback (most recent call last)",
      "Cell \u001b[1;32mIn[3], line 1\u001b[0m\n\u001b[1;32m----> 1\u001b[0m cols \u001b[38;5;241m=\u001b[39m AERONET[\u001b[43mfilepath\u001b[49m\u001b[38;5;241m.\u001b[39mstem]\u001b[38;5;241m.\u001b[39mcolumns\n\u001b[0;32m      3\u001b[0m \u001b[38;5;28;01mdef\u001b[39;00m \u001b[38;5;21mprint_columns_in_four\u001b[39m(ls, columns_per_row):\n\u001b[0;32m      4\u001b[0m     num_columns \u001b[38;5;241m=\u001b[39m \u001b[38;5;28mlen\u001b[39m(ls)\n",
      "\u001b[1;31mNameError\u001b[0m: name 'filepath' is not defined"
     ]
    }
   ],
   "source": [
    "cols = AERONET[filepath.stem].columns\n",
    "\n",
    "def print_columns_in_four(ls, columns_per_row):\n",
    "    num_columns = len(ls)\n",
    "    max_len = max(len(l) for l in ls) + 6\n",
    "    for i in range(0, num_columns, columns_per_row):\n",
    "        row = ls[i:i + columns_per_row]\n",
    "        formatted_row = [\n",
    "            f\"({i+j+1}) {col:<{max_len}}\" for j, col in enumerate(row)\n",
    "        ]\n",
    "        print(\"\\t\".join(formatted_row))\n",
    "\n",
    "print_columns_in_four(cols, 3)"
   ]
  },
  {
   "cell_type": "markdown",
   "id": "e6dc7d43-2f0d-4a02-ac46-4e021bc0feed",
   "metadata": {},
   "source": [
    "### Pandora Spectrometer (Pandonia Network)\n",
    "\n",
    "https://www.pandonia-global-network.org/"
   ]
  },
  {
   "cell_type": "code",
   "execution_count": null,
   "id": "89d66597-8277-4e26-85cf-5da97db649ad",
   "metadata": {},
   "outputs": [],
   "source": []
  },
  {
   "cell_type": "code",
   "execution_count": null,
   "id": "e3f9d1d8-538d-43b3-9309-30f3c3ff97d8",
   "metadata": {},
   "outputs": [],
   "source": []
  },
  {
   "cell_type": "code",
   "execution_count": null,
   "id": "d2b5297c-bc89-4b02-b9f2-4bc5e2a37d57",
   "metadata": {},
   "outputs": [],
   "source": []
  },
  {
   "cell_type": "code",
   "execution_count": null,
   "id": "3d4e7d03-f6e2-43bd-a40d-b0037cf47856",
   "metadata": {},
   "outputs": [],
   "source": []
  },
  {
   "cell_type": "code",
   "execution_count": null,
   "id": "425638c2-d575-4a8f-a14a-37313c24500c",
   "metadata": {},
   "outputs": [],
   "source": []
  },
  {
   "cell_type": "markdown",
   "id": "9953c396-4f36-4eef-a2b9-95cdd4da63b2",
   "metadata": {},
   "source": [
    "# Introduction to Datasets"
   ]
  },
  {
   "cell_type": "markdown",
   "id": "959d8618-0ae4-447b-a815-e60ec65fdfb4",
   "metadata": {},
   "source": [
    "### Ceilometer"
   ]
  },
  {
   "cell_type": "markdown",
   "id": "7dc49faa-12be-4494-ab47-dc8b3f196d81",
   "metadata": {},
   "source": [
    "#### Import Ceilometer Data"
   ]
  },
  {
   "cell_type": "markdown",
   "id": "3acdd1c3-1f67-4772-90fb-a46f12174503",
   "metadata": {},
   "source": [
    "To make this plot better we need to have a datetime axis, a tittle, a legend, etc. "
   ]
  },
  {
   "cell_type": "code",
   "execution_count": null,
   "id": "fdb961cc-e1d6-4ab5-b363-509e636d8e9d",
   "metadata": {},
   "outputs": [],
   "source": [
    "\n",
    "for key in AERONET.keys():\n",
    "    plt.figure()\n",
    "    for col in cols[10:21]:\n",
    "        plt.plot(AERONET[key][col])\n",
    "    plt.show()"
   ]
  },
  {
   "cell_type": "code",
   "execution_count": null,
   "id": "579f1673-14f5-43ab-bd3b-eb663a51c2d1",
   "metadata": {},
   "outputs": [],
   "source": [
    "for key in AERONET.keys(): \n",
    "    # The format is Date(dd:mm:yyyy) Time(hh:mm:ss). Lets also make it timezone aware. utc=True\n",
    "    AERONET[key][\"Datetime\"] = pd.to_datetime(AERONET[key][cols[1]] + \" \" + AERONET[key][cols[2]], format=\"%d:%m:%Y %H:%M:%S\", utc=True)"
   ]
  },
  {
   "cell_type": "code",
   "execution_count": null,
   "id": "be92e531-60ce-49ea-bee9-6421d0773a6a",
   "metadata": {},
   "outputs": [],
   "source": [
    "AERONET[key].index[-1]"
   ]
  },
  {
   "cell_type": "code",
   "execution_count": null,
   "id": "9ff158ba-ac08-4e0d-ab80-e33ffb723abf",
   "metadata": {},
   "outputs": [],
   "source": [
    "import matplotlib.dates as mdates\n",
    "import matplotlib.units as munits\n",
    "from datetime import datetime\n",
    "\n",
    "fig, ax = plt.subplots(figsize=(15,5))\n",
    "for col in cols[10:21]:\n",
    "    # X-axis is time: \"Datetime\" - Y-axis is AOD columns (i.e. cols)\n",
    "    # label is col: For legend\n",
    "    ax.scatter(AERONET[filepath.stem][\"Datetime\"], AERONET[filepath.stem][col], label=col)\n",
    "\n",
    "plt.legend\n",
    "ax.set_title(filepath.stem)\n",
    "\n",
    "converter = mdates.ConciseDateConverter()\n",
    "munits.registry[datetime] = converter\n",
    "\n",
    "ax.xaxis_date()\n",
    "plt.show()"
   ]
  },
  {
   "cell_type": "markdown",
   "id": "352de352-e009-445b-a9c1-e4f387df7026",
   "metadata": {},
   "source": [
    "If we set the index to the :\"Datetime\" column then we can do datetime slicing with the pandas Dataframe. Thus, zoom into a specific date range."
   ]
  },
  {
   "cell_type": "code",
   "execution_count": null,
   "id": "72f4db38-0435-4920-ad01-18d26a435459",
   "metadata": {},
   "outputs": [],
   "source": [
    "for key in AERONET.keys(): \n",
    "    AERONET[key].set_index(\"Datetime\", inplace=True)"
   ]
  },
  {
   "cell_type": "code",
   "execution_count": null,
   "id": "c3c4c1a6-6663-47d1-b4f6-2d37301a2336",
   "metadata": {},
   "outputs": [],
   "source": [
    "date_range = [\"2021-07-05\", \"2021-07-08\"]\n",
    "\n",
    "for key in AERONET.keys():\n",
    "    fig, ax = plt.subplots(figsize=(15,5))\n",
    "    for col in cols[10:21]:\n",
    "        # X-axis is time: \"Datetime\" - Y-axis is AOD columns (i.e. cols)\n",
    "        # label is col: For legend\n",
    "        ax.plot(AERONET[key][col][date_range[0]:date_range[1]], marker=\"o\", linestyle=\"\", label=col)\n",
    "    \n",
    "    fig.legend(bbox_to_anchor=(1.1, 0.9), title=\"Extinction AOD\")\n",
    "    ax.set_title(key)\n",
    "    \n",
    "    converter = mdates.ConciseDateConverter()\n",
    "    munits.registry[datetime] = converter\n",
    "    \n",
    "    ax.xaxis_date()\n",
    "    plt.show()"
   ]
  },
  {
   "cell_type": "code",
   "execution_count": null,
   "id": "46a44896-7b2b-4ade-8984-f13d80e40398",
   "metadata": {},
   "outputs": [],
   "source": []
  },
  {
   "cell_type": "markdown",
   "id": "43f628cd-66a6-403d-b465-6d77acb26d40",
   "metadata": {},
   "source": [
    "### Lidar Curtains\n",
    "- The basics: What data do you use for plotting?\n",
    "- Editting the Colobar: Colobar types, vmin & vmax, expressing features\n",
    "- pcolormesh vs contourf (& contour) vs imshow"
   ]
  },
  {
   "cell_type": "markdown",
   "id": "091762ac-9028-424d-843d-e61b47778bf5",
   "metadata": {},
   "source": [
    "### PLotting Time Series\n",
    "- The basics: What data to plot, Pandora (Chem) & AERONET (AOD)\n",
    "- Temporal Averaging\n",
    "- Multiple-Axis"
   ]
  },
  {
   "cell_type": "markdown",
   "id": "e273012b-4011-491e-a69c-37c748e4bf89",
   "metadata": {},
   "source": [
    "### Publications\n",
    "- Acknowledgements\n",
    "    - AERONEt: https://aeronet.gsfc.nasa.gov/new_web/data_usage.html\n",
    "- Coloblind Complient\n",
    "- Publication Worthy: Scaling, Saving, and Neatness"
   ]
  },
  {
   "cell_type": "markdown",
   "id": "6fa84dd0-dc51-4710-9e0f-13c8ef68e716",
   "metadata": {},
   "source": [
    "### Datasets\n",
    "- Text Files\n",
    "- NetCDF Files\n",
    "- JSON Files\n",
    "- Pandora Files\n",
    "- Ceilometer Files\n",
    "- TOLNet Files\n",
    "- MPLNET Files\n",
    "- AERONET Files\n",
    "- Storing your own Datasets: Databases, Parquet Files, Pickle Files, etc."
   ]
  },
  {
   "cell_type": "code",
   "execution_count": null,
   "id": "2b73b4ee-4fd8-4fe5-ae94-d82c2440674f",
   "metadata": {},
   "outputs": [],
   "source": [
    "# Function Space\n",
    "def importing_ceilometer(FilePaths, variables=None, LT=None, **kwargs):\n",
    "    data = {} # all data will be stored into a nested dictionary\n",
    "    files = {}\n",
    "    FilePaths = [Path(filePath) for filePath in FilePaths] # converting to Pathlib objects\n",
    "\n",
    "    for filePath in FilePaths:\n",
    "        if filePath.is_file() is False:\n",
    "            print('PATH IS NOT FOUND ON MACHINE')\n",
    "            return\n",
    "\n",
    "        fileName = filePath.name\n",
    "        data[fileName] = {} # Nested Dictionary\n",
    "        with xr.open_dataset(filePath) as file: # importing data as a xarrays instance\n",
    "            data[fileName][\"datetime\"] = file.time.values\n",
    "            data[fileName][\"dateNum\"] = np.array([mdates.date2num(t) for t in data[fileName][\"datetime\"]])\n",
    "            if LT: data[fileName][\"dateNum\"] = data[fileName][\"dateNum\"] + (LT/24)\n",
    "            data[fileName][\"range\"] = file.range.values\n",
    "            data[fileName][\"beta_raw\"] = file.beta_raw.values\n",
    "            data[fileName][\"beta_raw\"][data[fileName][\"beta_raw\"] == 0] = np.nan\n",
    "            data[fileName][\"beta_raw\"] = data[fileName][\"beta_raw\"].T\n",
    "            data[fileName][\"instrument_pbl\"] = file.pbl.values\n",
    "            data[fileName][\"lat_lon_alt\"] = [file.longitude.values, file.latitude.values, file.altitude.values]\n",
    "\n",
    "            if \"vars\" in kwargs.keys():\n",
    "                for var in kwargs[\"vars\"]:\n",
    "                    data[fileName][var] = file[var].values\n",
    "\n",
    "            data[fileName][\"datasets\"] = list(file.keys())\n",
    "            files[fileName] = file\n",
    "\n",
    "    return data, files\n",
    "\n",
    "def plot(data,\n",
    "         clims=[10**4, 10**6],\n",
    "         cticks=np.arange(10**4, 10**6, (10**6 - 10**4) / 5),\n",
    "         xlabel=\"Datetime (UTC)\",\n",
    "         **kwargs):\n",
    "\n",
    "    if \"figsize\" in kwargs.keys():\n",
    "        figsize = kwargs[\"figsize\"]\n",
    "    else: \n",
    "        figsize = (15, 8)\n",
    "        \n",
    "    fig, ax = plt.subplots(figsize=figsize)\n",
    "\n",
    "    for key in data.keys():\n",
    "        X, Y, Z = (data[key][\"dateNum\"], data[key][\"range\"].flatten()/1000, np.abs(data[key][\"beta_raw\"]))\n",
    "        im = ax.pcolormesh(X, Y, Z, cmap=\"viridis\", shading=\"nearest\", norm=LogNorm(vmin=clims[0], vmax=clims[1]))\n",
    "        # im = ax.pcolormesh(X, Y, Z, cmap=\"viridis\", shading=\"nearest\", vmin=0, vmax=10**5)\n",
    "        # im = ax.imshow(Z, vmin=0,vmax=1e5, origin='lower',aspect=5)\n",
    "    cbar = fig.colorbar(im, ax=ax, pad=0.01, ticks=cticks)\n",
    "    if \"cbar_label\" in kwargs.keys():\n",
    "        cbar_label = kwargs[\"cbar_label\"]\n",
    "    else: \n",
    "        cbar_label = r\"Atmospheric Backscatter ($log_{10}$)\"\n",
    "        \n",
    "    cbar.set_label(label=cbar_label, size=16, weight=\"bold\")\n",
    "\n",
    "    if \"title\" in kwargs.keys():\n",
    "        plt.title(kwargs[\"title\"], fontsize=20)\n",
    "    else: plt.title(r\"Ceilometer Backscatter\", fontsize=20)\n",
    "\n",
    "    ax.set_ylabel(\"Altitude (km AGL)\", fontsize=18)\n",
    "    ax.set_xlabel(xlabel, fontsize=18)\n",
    "\n",
    "    if \"xlims\" in kwargs.keys():\n",
    "        lim = kwargs[\"xlims\"]\n",
    "        lims = [np.datetime64(lim[0]), np.datetime64(lim[-1])]\n",
    "        ax.set_xlim(lims)\n",
    "\n",
    "    if \"ylims\" in kwargs.keys():\n",
    "        ax.set_ylim(kwargs[\"ylims\"])\n",
    "\n",
    "    if \"yticks\" in kwargs.keys():\n",
    "        ax.set_yticks(kwargs[\"yticks\"])\n",
    "        \n",
    "    if \"overlay\" in kwargs.keys():\n",
    "        ax.contour(kwargs[\"overlay\"][\"X\"], kwargs[\"overlay\"][\"Y\"], kwargs[\"overlay\"][\"Z\"], colors='pink', linewidths=2)\n",
    "        \n",
    "    plt.setp(ax.get_yticklabels(), fontsize=16)\n",
    "    plt.setp(ax.get_xticklabels(), fontsize=16)\n",
    "    cbar.ax.tick_params(labelsize=16)\n",
    "\n",
    "    converter = mdates.ConciseDateConverter()\n",
    "    munits.registry[datetime] = converter\n",
    "\n",
    "    ax.xaxis_date()\n",
    "    \n",
    "    if \"target\" in kwargs.keys():\n",
    "        #add rectangle to plot\n",
    "        ax.add_patch(Rectangle(*kwargs[\"target\"],\n",
    "             edgecolor = 'pink',\n",
    "             fill=False,\n",
    "             lw=1))\n",
    "        \n",
    "    if \"savefig\" in kwargs.keys():\n",
    "        plt.savefig(f\"{kwargs['savefig']}\", dpi=300)\n",
    "\n",
    "    plt.show()\n",
    "\n",
    "    return (X, Y, Z)"
   ]
  },
  {
   "cell_type": "code",
   "execution_count": null,
   "id": "e8ef3958-70a7-4ef1-a6d6-6a09ac4f1955",
   "metadata": {},
   "outputs": [],
   "source": []
  },
  {
   "cell_type": "code",
   "execution_count": null,
   "id": "10bdf032-8c0c-4121-a3cc-0ce9fa7bedeb",
   "metadata": {},
   "outputs": [],
   "source": []
  },
  {
   "cell_type": "code",
   "execution_count": null,
   "id": "87444abb-4e96-44d3-b782-83647c2abdd8",
   "metadata": {},
   "outputs": [],
   "source": []
  },
  {
   "cell_type": "code",
   "execution_count": null,
   "id": "10e42c6e-3eec-41e5-a4e8-8d0e60b766fe",
   "metadata": {},
   "outputs": [],
   "source": []
  },
  {
   "cell_type": "markdown",
   "id": "e6e83bcd-9176-4438-9ec9-ebf318a1942f",
   "metadata": {},
   "source": [
    "### Snapshot Plots\n",
    "- Lidar Profiles\n",
    "- Size Distribution\n",
    "- Multiple-Subplots"
   ]
  },
  {
   "cell_type": "markdown",
   "id": "eef26e93-cc03-4b5d-97e1-c5d9c801da3b",
   "metadata": {},
   "source": [
    "Acknowledgments\n",
    "\n",
    "The PGN provides data free to the public. In return, we ask that you follow the PGN data use guidelines. The PGN data are provided by an international group of researchers with a variety of affiliations and institutional support. Each site has a Principal Investigator (PI) and local operators, responsible for deployment, maintenance and data collection. The PI and local operators have invested considerable effort in the production of the data and they are entitled to be informed of any use of data produced by that site. \n",
    "\n",
    "Using PGN data\n",
    "We suggest consulting with the PI(s) of the instruments about the data to be used, if there are specific questions or apparent issues with the data. While we make an effort to ensure uniformly high data quality, each PGN instrument has a unique location that can affect the representativeness of the data. The PI may have information about the local environment of an instrument that is important in your analysis.\n",
    "\n",
    "Publishing PGN data\n",
    "Co-authorship\n",
    "We recognize that it is entirely the decision of the primary author of a manuscript to decide upon co-authors. We suggest that if the PGN data from a few sites are a major component of the paper then co-authorship to PI(s) be offered. In the event that co-authorship is not justified, an acknowledgment is sufficient. If PGN data are used in combination with data from other sources and co-authorship is offered to their PIs, then co-authorship should also be offered to the PGN PIs.\n",
    "\n",
    "Example acknowledgments\n",
    "Example acknowledgment when using PGN data from a ‘few’ sites:\n",
    "\n",
    "“We thank PI(s) and staff for their effort in establishing and maintaining (site name(s)) sites and (Agency) for funding.”\n",
    "\n",
    "Example acknowledgment when using data from ‘many’ sites:\n",
    "\n",
    "“We thank the PI(s), support staff and funding for establishing and maintaining the (#) sites of the PGN used in this investigation.”\n",
    "\n",
    "In all cases to be added to the acknowledgment\n",
    "“The PGN is a bilateral project supported with funding from NASA and ESA.”"
   ]
  }
 ],
 "metadata": {
  "kernelspec": {
   "display_name": "Python 3 (ipykernel)",
   "language": "python",
   "name": "python3"
  },
  "language_info": {
   "codemirror_mode": {
    "name": "ipython",
    "version": 3
   },
   "file_extension": ".py",
   "mimetype": "text/x-python",
   "name": "python",
   "nbconvert_exporter": "python",
   "pygments_lexer": "ipython3",
   "version": "3.10.12"
  }
 },
 "nbformat": 4,
 "nbformat_minor": 5
}
