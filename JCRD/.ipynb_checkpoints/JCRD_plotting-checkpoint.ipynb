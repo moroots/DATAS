{
 "cells": [
  {
   "cell_type": "markdown",
   "id": "de9d7483-9f10-4c67-b14f-390a89edcecd",
   "metadata": {},
   "source": [
    "# JCRD Datasets, Visualizations, Analysis"
   ]
  },
  {
   "cell_type": "code",
   "execution_count": null,
   "id": "79070782-3f38-4ce8-a5a1-6dc48ee94ad1",
   "metadata": {},
   "outputs": [],
   "source": [
    "# Introduction to Datasets"
   ]
  },
  {
   "cell_type": "code",
   "execution_count": null,
   "id": "69b784ee-320f-4081-8110-c15f83a7ea28",
   "metadata": {},
   "outputs": [],
   "source": []
  },
  {
   "cell_type": "code",
   "execution_count": null,
   "id": "0dd04ec7-9cc7-42af-9a50-c03b9f000249",
   "metadata": {},
   "outputs": [],
   "source": []
  },
  {
   "cell_type": "code",
   "execution_count": null,
   "id": "6aab1951-3ec6-4d88-a2f0-85be84adea8a",
   "metadata": {},
   "outputs": [],
   "source": []
  },
  {
   "cell_type": "code",
   "execution_count": null,
   "id": "f6b4f9c0-3346-4034-87ec-d29163811191",
   "metadata": {},
   "outputs": [],
   "source": []
  },
  {
   "cell_type": "code",
   "execution_count": null,
   "id": "39dab9b0-ffcc-4b6a-a160-1227c26caa3c",
   "metadata": {},
   "outputs": [],
   "source": []
  },
  {
   "cell_type": "code",
   "execution_count": null,
   "id": "f214140b-371e-4d46-9398-ecd8129ec4dc",
   "metadata": {},
   "outputs": [],
   "source": []
  },
  {
   "cell_type": "code",
   "execution_count": null,
   "id": "76eefda0-bbf9-4194-aff0-d16962643a38",
   "metadata": {},
   "outputs": [],
   "source": []
  },
  {
   "cell_type": "code",
   "execution_count": null,
   "id": "f8b656d5-d87d-480d-9cf8-d4dc2ff2df86",
   "metadata": {},
   "outputs": [],
   "source": []
  },
  {
   "cell_type": "code",
   "execution_count": null,
   "id": "13ae98ce-e941-43f9-b371-e3c15212c8f6",
   "metadata": {},
   "outputs": [],
   "source": []
  },
  {
   "cell_type": "code",
   "execution_count": null,
   "id": "a70603af-45f5-4ee7-984d-29f34e643c95",
   "metadata": {},
   "outputs": [],
   "source": []
  },
  {
   "cell_type": "code",
   "execution_count": null,
   "id": "2b73b4ee-4fd8-4fe5-ae94-d82c2440674f",
   "metadata": {},
   "outputs": [],
   "source": []
  },
  {
   "cell_type": "code",
   "execution_count": null,
   "id": "e8ef3958-70a7-4ef1-a6d6-6a09ac4f1955",
   "metadata": {},
   "outputs": [],
   "source": []
  },
  {
   "cell_type": "code",
   "execution_count": null,
   "id": "10bdf032-8c0c-4121-a3cc-0ce9fa7bedeb",
   "metadata": {},
   "outputs": [],
   "source": []
  },
  {
   "cell_type": "code",
   "execution_count": null,
   "id": "87444abb-4e96-44d3-b782-83647c2abdd8",
   "metadata": {},
   "outputs": [],
   "source": []
  },
  {
   "cell_type": "code",
   "execution_count": null,
   "id": "10e42c6e-3eec-41e5-a4e8-8d0e60b766fe",
   "metadata": {},
   "outputs": [],
   "source": []
  }
 ],
 "metadata": {
  "kernelspec": {
   "display_name": "Python 3 (ipykernel)",
   "language": "python",
   "name": "python3"
  },
  "language_info": {
   "codemirror_mode": {
    "name": "ipython",
    "version": 3
   },
   "file_extension": ".py",
   "mimetype": "text/x-python",
   "name": "python",
   "nbconvert_exporter": "python",
   "pygments_lexer": "ipython3",
   "version": "3.10.14"
  }
 },
 "nbformat": 4,
 "nbformat_minor": 5
}
