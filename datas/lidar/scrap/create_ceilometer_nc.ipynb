{
 "cells": [
  {
   "cell_type": "code",
   "execution_count": 1,
   "id": "881131b1-7ed6-4db9-bb06-df751183fd70",
   "metadata": {},
   "outputs": [],
   "source": [
    "from netCDF4 import Dataset\n",
    "from datetime import date"
   ]
  },
  {
   "cell_type": "code",
   "execution_count": null,
   "id": "c8092ce8-d438-4ebf-b542-2d85131f92d8",
   "metadata": {},
   "outputs": [],
   "source": []
  },
  {
   "cell_type": "code",
   "execution_count": null,
   "id": "b904a8f2-8326-4c37-8872-0e96d295ff07",
   "metadata": {},
   "outputs": [],
   "source": []
  },
  {
   "cell_type": "code",
   "execution_count": 2,
   "id": "442ed37b-27e1-4cc2-a18b-8046c170c70a",
   "metadata": {},
   "outputs": [
    {
     "name": "stdout",
     "output_type": "stream",
     "text": [
      "<class 'netCDF4._netCDF4.Dataset'>\n",
      "root group (NETCDF4_CLASSIC data model, file format HDF5):\n",
      "    dimensions(sizes): \n",
      "    variables(dimensions): \n",
      "    groups: \n"
     ]
    }
   ],
   "source": [
    "try: ncfile.close()\n",
    "except: pass \n",
    "\n",
    "fileName = f\"traceraq-GSFCCeilometer_LaPorte_20210913_L1\"\n",
    "ncfile = Dataset(r'C:\\Users\\Magnolia\\OneDrive - UMBC\\Research\\Analysis\\DATAS\\datas\\lidar\\data\\\\{}.nc'.format(fileName), mode=\"w\", format=\"NETCDF4_CLASSIC\")\n",
    "print(ncfile)"
   ]
  },
  {
   "cell_type": "code",
   "execution_count": 3,
   "id": "4bd460e8-c729-48ab-88a9-0a10106423a1",
   "metadata": {},
   "outputs": [],
   "source": [
    "dim_alt = ncfile.createDimension(\"altitude\", 1040)\n",
    "dim_time  = ncfile.createDimension(\"time\", 5760)"
   ]
  },
  {
   "cell_type": "code",
   "execution_count": 4,
   "id": "cf7f2cbb-a2c8-44fd-bb36-2908c7411b95",
   "metadata": {},
   "outputs": [
    {
     "name": "stdout",
     "output_type": "stream",
     "text": [
      "('altitude', <class 'netCDF4._netCDF4.Dimension'>: name = 'altitude', size = 1040)\n",
      "('time', <class 'netCDF4._netCDF4.Dimension'>: name = 'time', size = 5760)\n"
     ]
    }
   ],
   "source": [
    "for dim in ncfile.dimensions.items():\n",
    "    print(dim)"
   ]
  },
  {
   "cell_type": "code",
   "execution_count": 6,
   "id": "4b30362e-6196-4f9b-b416-a665ef1e5134",
   "metadata": {},
   "outputs": [],
   "source": [
    "ncfile.title = \"CHM15K Nimbus\"\n",
    "ncfile.history = f\"Created by Maurice Roots ({date.today()})\"\n",
    "ncfile.institution = \"GSFC / Sullivan TOLNET\"\n",
    "ncfile.location = \"La Port, TX\"\n",
    "ncfile.version = \"L1\"\n",
    "ncfile.processing = \"DATAS v2022.03.30\"\n",
    "ncfile.usage = \"TRACER-AQ\""
   ]
  },
  {
   "cell_type": "code",
   "execution_count": 7,
   "id": "7838b946-37d5-4f61-b2d8-0563ba496453",
   "metadata": {},
   "outputs": [
    {
     "name": "stdout",
     "output_type": "stream",
     "text": [
      "<class 'netCDF4._netCDF4.Dataset'>\n",
      "root group (NETCDF4_CLASSIC data model, file format HDF5):\n",
      "    title: CHM15K Nimbus\n",
      "    history: Created by Maurice Roots (2022-03-30)\n",
      "    institution: GSFC / Sullivan TOLNET\n",
      "    location: La Port, TX\n",
      "    version: L1\n",
      "    processing: DATAS v2022.03.30\n",
      "    usage: TRACER-AQ\n",
      "    dimensions(sizes): altitude(1040), time(5760)\n",
      "    variables(dimensions): \n",
      "    groups: \n"
     ]
    }
   ],
   "source": [
    "print(ncfile)"
   ]
  },
  {
   "cell_type": "code",
   "execution_count": null,
   "id": "d8ef3efe-755f-4a9a-9a9c-bb854386013e",
   "metadata": {},
   "outputs": [],
   "source": [
    "time = ncfile.createVariable(\"time\", \")"
   ]
  },
  {
   "cell_type": "code",
   "execution_count": 8,
   "id": "ec0b9903-d7cb-49f8-86ff-cab939890f67",
   "metadata": {},
   "outputs": [],
   "source": [
    "ncfile.close()"
   ]
  },
  {
   "cell_type": "code",
   "execution_count": null,
   "id": "1934a625-2f24-45f0-b7ec-77b7d4078320",
   "metadata": {},
   "outputs": [],
   "source": []
  },
  {
   "cell_type": "code",
   "execution_count": 2,
   "id": "093255d6-90fc-4c81-af5f-41a4f18e49c6",
   "metadata": {},
   "outputs": [],
   "source": [
    "def create_nc(Data, folderPath, **kwargs):\n",
    "    \n",
    "    try: ncfile.close()\n",
    "    except: pass \n",
    "\n",
    "    fileName = f\"traceraq-GSFCCeilometer_LaPorte_20210913_L1\"\n",
    "    ncfile = Dataset(r'C:\\Users\\Magnolia\\OneDrive - UMBC\\Research\\Analysis\\DATAS\\datas\\lidar\\data\\\\{}.nc'.format(fileName), mode=\"w\", format=\"NETCDF4_CLASSIC\")\n",
    "    print(ncfile)\n",
    "\n",
    "    dim_alt = ncfile.createDimension(\"altitude\", 0)\n",
    "    dim_time  = ncfile.createDimension(\"time\", 0)\n",
    "\n",
    "    for dim in ncfile.dimensions.items():\n",
    "        print(dim)\n",
    "    \n",
    "    ncfile.title = \"CHM15K Nimbus\"\n",
    "    ncfile.history = f\"Created by Maurice Roots ({date.today()})\"\n",
    "    ncfile.institution = \"GSFC / Sullivan TOLNET\"\n",
    "    ncfile.location = \"La Port, TX\"\n",
    "    ncfile.version = \"L1\"\n",
    "    ncfile.processing = \"DATAS v2022.03.30\"\n",
    "    ncfile.usage = \"TRACER-AQ\"\n",
    "\n",
    "    print(ncfile)\n",
    "    ncfile.close()\n",
    "    \n",
    "    return"
   ]
  }
 ],
 "metadata": {
  "kernelspec": {
   "display_name": "Python 3 (ipykernel)",
   "language": "python",
   "name": "python3"
  },
  "language_info": {
   "codemirror_mode": {
    "name": "ipython",
    "version": 3
   },
   "file_extension": ".py",
   "mimetype": "text/x-python",
   "name": "python",
   "nbconvert_exporter": "python",
   "pygments_lexer": "ipython3",
   "version": "3.9.1"
  }
 },
 "nbformat": 4,
 "nbformat_minor": 5
}
